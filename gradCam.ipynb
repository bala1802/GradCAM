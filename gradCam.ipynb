{
 "cells": [
  {
   "cell_type": "markdown",
   "metadata": {},
   "source": [
    "#### 1. What is a GradCAM?\n",
    "\n",
    "- GradCAM (Gradient-weighted Class Activation Mapping) is a technique used in deep learning and computer vision to visualize the regions of an input image that contribute the most to the predictions made by a neural network model. \n",
    "- It highlights the important regions by generating a heatmap that shows where the model's attention is focused within the image. \n",
    "- GradCAM achieves this by using gradients of the model's output with respect to the input image to determine the importance of each pixel.\n",
    "\n",
    "*Imagine you have a super cool pair of glasses that can show you exactly what your brain is thinking about. Well, in a way, GradCAM is like those glasses, but for computers and pictures.*\n",
    "\n",
    "*You know how when you look at a picture, you can tell what's important in it, like a bright smile on someone's face or a cute puppy in the background? GradCAM helps computers do something similar. It helps them figure out what parts of a picture they are paying the most attention to when they're trying to understand it.*.\n",
    "\n",
    "*Let's say we have a picture of a sunny beach with lots of things happening: people playing in the sand, waves crashing, and colorful umbrellas. When a computer wants to understand what's happening in the picture, it uses something called a `Neural Network` (that's like the computer's brain) to look at all the different parts of the picture*.\n",
    "\n",
    "*GradCAM helps the computer show us where it's focusing the most. It's like shining a bright light on the most interesting parts of the picture. So, if the computer is trying to figure out if there's a dog on the beach, GradCAM would show us which parts of the picture the computer thinks might have the dog – maybe near a group of people or by the water*.\n",
    "\n",
    "In short, GradCAM helps us see what parts of a picture a computer thinks are the most important when it's trying to understand what's in the picture. Just like your brain focuses on the best parts of a story, GradCAM helps computers focus on the best parts of a picture to understand it better!\n",
    "\n"
   ]
  },
  {
   "cell_type": "markdown",
   "metadata": {},
   "source": [
    "#### 2. Steps followed in Grad CAM. Let's understand each step involved in the `GradCAM` with respect to the \"Sunny Beach\" example\n",
    "\n",
    "- Capture the output of the *last \"detective\" layer of the computer's brain that looks at the sunny beach picture*.\n",
    "\n",
    "- Calculate how much each *\"detective\" (neuron) in the last layer cares about finding dogs on the beach*, using gradients.\n",
    "\n",
    "- Find the average importance of each *\"detective\" across different parts of the picture to get a list of their interests in finding dogs*.\n",
    "\n",
    "- Multiply the *different parts of the sunny beach picture with their corresponding \"detective\" interests to show which spots are important for detecting dogs*.\n",
    "\n",
    "- Combine these *\"important spots\" to create a map that highlights areas where the computer thinks dogs are likely to be in the picture*."
   ]
  },
  {
   "cell_type": "markdown",
   "metadata": {},
   "source": [
    "#### 3. Load Dataset\n",
    "\n",
    "- In this Notebook, lets explore the Fashion MNIST datset for understanding the GradCAM\n",
    "\n",
    "- The shape of each image present in the dataset is `28x28`.\n",
    "- The number of classes present in this train data - 60K images and test data - 10K images\n",
    "- The data is converted into PyTorch Tensors.\n",
    "- The data loaders are constructed to pass into the Neural Network\n"
   ]
  },
  {
   "cell_type": "code",
   "execution_count": 2,
   "metadata": {},
   "outputs": [],
   "source": [
    "import torch"
   ]
  },
  {
   "cell_type": "code",
   "execution_count": 3,
   "metadata": {},
   "outputs": [
    {
     "name": "stdout",
     "output_type": "stream",
     "text": [
      "Downloading data from https://storage.googleapis.com/tensorflow/tf-keras-datasets/train-labels-idx1-ubyte.gz\n",
      "29515/29515 [==============================] - 0s 0us/step\n",
      "Downloading data from https://storage.googleapis.com/tensorflow/tf-keras-datasets/train-images-idx3-ubyte.gz\n",
      "26421880/26421880 [==============================] - 23s 1us/step\n",
      "Downloading data from https://storage.googleapis.com/tensorflow/tf-keras-datasets/t10k-labels-idx1-ubyte.gz\n",
      "5148/5148 [==============================] - 0s 0us/step\n",
      "Downloading data from https://storage.googleapis.com/tensorflow/tf-keras-datasets/t10k-images-idx3-ubyte.gz\n",
      "4422102/4422102 [==============================] - 4s 1us/step\n"
     ]
    },
    {
     "data": {
      "text/plain": [
       "(torch.Size([60000, 1, 28, 28]),\n",
       " torch.Size([10000, 1, 28, 28]),\n",
       " torch.Size([60000]),\n",
       " torch.Size([10000]))"
      ]
     },
     "execution_count": 3,
     "metadata": {},
     "output_type": "execute_result"
    }
   ],
   "source": [
    "from tensorflow import keras\n",
    "from sklearn.model_selection import train_test_split\n",
    "\n",
    "(X_train, Y_train), (X_test, Y_test) = keras.datasets.fashion_mnist.load_data()\n",
    "\n",
    "X_train, X_test, Y_train, Y_test = torch.tensor(X_train, dtype=torch.float32),\\\n",
    "                                   torch.tensor(X_test, dtype=torch.float32),\\\n",
    "                                   torch.tensor(Y_train, dtype=torch.long),\\\n",
    "                                   torch.tensor(Y_test, dtype=torch.long)\n",
    "\n",
    "X_train, X_test = X_train.reshape(-1,1,28,28), X_test.reshape(-1,1,28,28)\n",
    "\n",
    "X_train, X_test = X_train/255.0, X_test/255.0\n",
    "\n",
    "classes =  Y_train.unique()\n",
    "class_labels = [\"T-shirt/top\",\"Trouser\",\"Pullover\",\"Dress\",\"Coat\",\"Sandal\",\"Shirt\",\"Sneaker\",\"Bag\",\"Ankle boot\"]\n",
    "mapping = dict(zip(classes.numpy(), class_labels))\n",
    "\n",
    "X_train.shape, X_test.shape, Y_train.shape, Y_test.shape"
   ]
  },
  {
   "cell_type": "code",
   "execution_count": 4,
   "metadata": {},
   "outputs": [],
   "source": [
    "from torch.utils.data import TensorDataset, DataLoader\n",
    "\n",
    "train_dataset = TensorDataset(X_train, Y_train)\n",
    "test_dataset  = TensorDataset(X_test , Y_test)\n",
    "\n",
    "train_loader = DataLoader(train_dataset, batch_size=128, shuffle=True)\n",
    "test_loader = DataLoader(test_dataset, batch_size=128, shuffle=True)"
   ]
  },
  {
   "cell_type": "markdown",
   "metadata": {},
   "source": [
    "#### 4. Construct a Simple Convolutional Neural Network\n",
    "\n",
    "- The Neural Network has 3 Convolutional Layers and 1 Linear Layer\n",
    "\n",
    "- Convolutional Layer 1 with `48` Output channels\n",
    "- Convolutional Layer 2 with `32` Output channels\n",
    "- Convolutional Layer 3 with `16` Output channels\n",
    "- The Last Linear layer has `10` Output units which is same as the number of classes"
   ]
  },
  {
   "cell_type": "code",
   "execution_count": 6,
   "metadata": {},
   "outputs": [
    {
     "data": {
      "text/plain": [
       "ConvNet(\n",
       "  (seq): Sequential(\n",
       "    (0): Conv2d(1, 48, kernel_size=(3, 3), stride=(1, 1), padding=same)\n",
       "    (1): ReLU()\n",
       "    (2): Conv2d(48, 32, kernel_size=(3, 3), stride=(1, 1), padding=same)\n",
       "    (3): ReLU()\n",
       "    (4): Conv2d(32, 16, kernel_size=(3, 3), stride=(1, 1), padding=same)\n",
       "    (5): ReLU()\n",
       "    (6): Flatten(start_dim=1, end_dim=-1)\n",
       "    (7): Linear(in_features=12544, out_features=10, bias=True)\n",
       "  )\n",
       ")"
      ]
     },
     "execution_count": 6,
     "metadata": {},
     "output_type": "execute_result"
    }
   ],
   "source": [
    "from torch import nn\n",
    "import torch.nn.functional as F\n",
    "\n",
    "class ConvNet(nn.Module):\n",
    "    def __init__(self):\n",
    "        super(ConvNet, self).__init__()\n",
    "        self.seq = nn.Sequential(\n",
    "            nn.Conv2d(in_channels=1, out_channels=48, kernel_size=(3,3), padding=\"same\"),\n",
    "            nn.ReLU(),\n",
    "\n",
    "            nn.Conv2d(in_channels=48, out_channels=32, kernel_size=(3,3), padding=\"same\"),\n",
    "            nn.ReLU(),\n",
    "\n",
    "            nn.Conv2d(in_channels=32, out_channels=16, kernel_size=(3,3), padding=\"same\"),\n",
    "            nn.ReLU(),\n",
    "\n",
    "            nn.Flatten(),\n",
    "            nn.Linear(16*28*28, len(classes))  \n",
    "        )\n",
    "\n",
    "    def forward(self, x_batch):\n",
    "        preds = self.seq(x_batch)\n",
    "        return preds\n",
    "\n",
    "conv_net = ConvNet()\n",
    "conv_net"
   ]
  },
  {
   "cell_type": "markdown",
   "metadata": {},
   "source": [
    "#### 5. Train Network"
   ]
  },
  {
   "cell_type": "code",
   "execution_count": 8,
   "metadata": {},
   "outputs": [],
   "source": [
    "from sklearn.metrics import accuracy_score\n",
    "from tqdm import tqdm\n",
    "import gc\n",
    "\n",
    "def CalcValLoss(model, loss_func, val_loader):\n",
    "    with torch.no_grad(): ## Prevents calculation of gradients\n",
    "        val_losses = []\n",
    "        for X_batch, Y_batch in val_loader:\n",
    "            preds = model(X_batch)\n",
    "            loss = loss_func(preds, Y_batch)\n",
    "            val_losses.append(loss)\n",
    "        print(\"Valid CategoricalCrossEntropy : {:.3f}\".format(torch.tensor(val_losses).mean()))\n",
    "\n",
    "def MakePredictions(model, loader):\n",
    "    preds, Y_shuffled = [], []\n",
    "    for X_batch, Y_batch in loader:\n",
    "        preds.append(model(X_batch))\n",
    "        Y_shuffled.append(Y_batch)\n",
    "\n",
    "    preds = torch.cat(preds).argmax(axis=-1)\n",
    "    Y_shuffled = torch.cat(Y_shuffled)\n",
    "    return Y_shuffled, preds\n",
    "\n",
    "def TrainModelInBatchesV1(model, loss_func, optimizer, train_loader, val_loader, epochs=5):\n",
    "    for i in range(epochs):\n",
    "        losses = [] ## Record loss of each batch\n",
    "        for X_batch, Y_batch in tqdm(train_loader):\n",
    "            preds = model(X_batch) ## Make Predictions by forward pass through network\n",
    "\n",
    "            loss = loss_func(preds, Y_batch) ## Calculate Loss\n",
    "            losses.append(loss) ## Record Loss\n",
    "\n",
    "            optimizer.zero_grad() ## Zero weights before calculating gradients\n",
    "            loss.backward() ## Calculate Gradients\n",
    "            optimizer.step() ## Update Weights\n",
    "\n",
    "        print(\"Train CategoricalCrossEntropy : {:.3f}\".format(torch.tensor(losses).mean()))\n",
    "        CalcValLoss(model, loss_func, val_loader)\n",
    "\n",
    "        Y_test_shuffled, test_preds = MakePredictions(model, val_loader)\n",
    "        val_acc = accuracy_score(Y_test_shuffled, test_preds)\n",
    "        print(\"Val  Accuracy : {:.3f}\".format(val_acc))\n",
    "        gc.collect()"
   ]
  },
  {
   "cell_type": "code",
   "execution_count": 10,
   "metadata": {},
   "outputs": [
    {
     "name": "stderr",
     "output_type": "stream",
     "text": [
      "100%|██████████| 469/469 [01:46<00:00,  4.39it/s]\n"
     ]
    },
    {
     "name": "stdout",
     "output_type": "stream",
     "text": [
      "Train CategoricalCrossEntropy : 0.438\n",
      "Valid CategoricalCrossEntropy : 0.339\n",
      "Val  Accuracy : 0.873\n"
     ]
    },
    {
     "name": "stderr",
     "output_type": "stream",
     "text": [
      "100%|██████████| 469/469 [01:46<00:00,  4.42it/s]\n"
     ]
    },
    {
     "name": "stdout",
     "output_type": "stream",
     "text": [
      "Train CategoricalCrossEntropy : 0.286\n",
      "Valid CategoricalCrossEntropy : 0.308\n",
      "Val  Accuracy : 0.888\n"
     ]
    },
    {
     "name": "stderr",
     "output_type": "stream",
     "text": [
      "100%|██████████| 469/469 [01:46<00:00,  4.42it/s]\n"
     ]
    },
    {
     "name": "stdout",
     "output_type": "stream",
     "text": [
      "Train CategoricalCrossEntropy : 0.236\n",
      "Valid CategoricalCrossEntropy : 0.270\n",
      "Val  Accuracy : 0.905\n"
     ]
    }
   ],
   "source": [
    "from torch.optim import SGD, RMSprop, Adam\n",
    "\n",
    "epochs = 3\n",
    "learning_rate = torch.tensor(1e-3) # 0.001\n",
    "\n",
    "conv_net = ConvNet()\n",
    "cross_entropy_loss = nn.CrossEntropyLoss()\n",
    "optimizer = Adam(params=conv_net.parameters(), lr=learning_rate)\n",
    "\n",
    "TrainModelInBatchesV1(conv_net, cross_entropy_loss, optimizer, train_loader, test_loader,epochs)"
   ]
  },
  {
   "cell_type": "markdown",
   "metadata": {},
   "source": [
    "#### 6. Grad CAM Step-by-Step Process Involved"
   ]
  },
  {
   "cell_type": "markdown",
   "metadata": {},
   "source": [
    "#### 6.1 Capture Output Of Last Convolution Layer\n",
    "\n",
    "- In the first step, lets capture the Output of the `Last Convolution Layer`. This is achieved by designing a secondary Convolutional Neural Network using the layers from our original neural network - `ConvNet`\n",
    "\n",
    "- To retrieve the layers of our original network `ConvNet`, let's utilize the `children()` function applied to the network. This will allow us to access the various layers within the network\n",
    "\n",
    "- Let's perform the forward pass on the secondary neural network, with a focus on capturing the `Last Convolution Layer`, a crucial component of our Task. This output is stored as a local member of this new network.\n",
    "\n",
    "- A random sample is selected from our test data, and ran this selected sample through the new network using a `forward pass`\n",
    "\n",
    "- The output of the step 6.1 is an output similar to what our original network would produce - 10 probabilities per sample. It is observed that the shape of the output from the last convolutional layer is `(1, 16, 28, 28)`. The `16` signifies the number of output channels from the convolutional layer, and the batch size of 1 reflects our focus on analyzing a single sample."
   ]
  },
  {
   "cell_type": "code",
   "execution_count": 11,
   "metadata": {},
   "outputs": [
    {
     "data": {
      "text/plain": [
       "Sequential(\n",
       "  (0): Conv2d(1, 48, kernel_size=(3, 3), stride=(1, 1), padding=same)\n",
       "  (1): ReLU()\n",
       "  (2): Conv2d(48, 32, kernel_size=(3, 3), stride=(1, 1), padding=same)\n",
       "  (3): ReLU()\n",
       "  (4): Conv2d(32, 16, kernel_size=(3, 3), stride=(1, 1), padding=same)\n",
       "  (5): ReLU()\n",
       "  (6): Flatten(start_dim=1, end_dim=-1)\n",
       "  (7): Linear(in_features=12544, out_features=10, bias=True)\n",
       ")"
      ]
     },
     "execution_count": 11,
     "metadata": {},
     "output_type": "execute_result"
    }
   ],
   "source": [
    "list(conv_net.children())[0]"
   ]
  },
  {
   "cell_type": "code",
   "execution_count": 12,
   "metadata": {},
   "outputs": [],
   "source": [
    "class LastConvLayerModel(nn.Module):\n",
    "    def __init__(self):\n",
    "        super(LastConvLayerModel, self).__init__()\n",
    "        self.layers = list(list(conv_net.children())[0].children())\n",
    "\n",
    "    def forward(self, X_batch):\n",
    "        x = self.layers[0](X_batch)\n",
    "        conv_layer_output = None\n",
    "        for i, layer in enumerate(self.layers[1:]):\n",
    "            x = layer(x)\n",
    "            if i == 3:\n",
    "                self.conv_layer_output = x\n",
    "        return x"
   ]
  },
  {
   "cell_type": "code",
   "execution_count": 13,
   "metadata": {},
   "outputs": [
    {
     "data": {
      "text/plain": [
       "(tensor(3), tensor(0.9408, grad_fn=<MaxBackward1>))"
      ]
     },
     "execution_count": 13,
     "metadata": {},
     "output_type": "execute_result"
    }
   ],
   "source": [
    "import numpy as np\n",
    "\n",
    "conv_model = LastConvLayerModel()\n",
    "idx = np.random.choice(range(10000))\n",
    "pred = conv_model(X_test[idx:idx+1])\n",
    "\n",
    "F.softmax(pred, dim=-1).argmax(), F.softmax(pred, dim=-1).max()"
   ]
  },
  {
   "cell_type": "code",
   "execution_count": 14,
   "metadata": {},
   "outputs": [
    {
     "data": {
      "text/plain": [
       "torch.Size([1, 16, 28, 28])"
      ]
     },
     "execution_count": 14,
     "metadata": {},
     "output_type": "execute_result"
    }
   ],
   "source": [
    "conv_model.conv_layer_output.shape"
   ]
  },
  {
   "cell_type": "code",
   "execution_count": 15,
   "metadata": {},
   "outputs": [
    {
     "name": "stdout",
     "output_type": "stream",
     "text": [
      "Actual    Target : T-shirt/top\n",
      "Predicted Target : Dress\n"
     ]
    }
   ],
   "source": [
    "print(\"Actual    Target : {}\".format(mapping[Y_test[idx].item()]))\n",
    "print(\"Predicted Target : {}\".format(mapping[pred.argmax(dim=-1).item()]))"
   ]
  },
  {
   "cell_type": "markdown",
   "metadata": {},
   "source": [
    "#### 6.2 Take Gradients Of Last Conv Layer Output With Respect to Prediction\n",
    "\n",
    "- Now let's focus on calculating the gradient related to the last convolution layer's output concerning the predicted item. To achieve this, let's utilize the `grad()` function, which is available in the `autograd` sub-module of PyTorch\n",
    "\n",
    "- Two arguments are passed into the `grad()` function.\n",
    "    1.  First input is the `Predicted Probability`\n",
    "    2.  Second input is the output originating from the `Last Convolution` layer.\n",
    "\n",
    "    The `grad()` function takes these inputs and performs Gradient Calculations. Eventually returns the `computed gradients`\n",
    "\n",
    "- The Shape of the `computed gradients` matches that of the last convolutional layer's output - `(1, 16, 28, 28)`\n",
    "\n",
    "For our analysis, we calculated gradients with respect to the maximum predicted probability. However, it's possible to take gradients with respect to any of the 10 probabilities if our objective involves examining activations for other target classes."
   ]
  },
  {
   "cell_type": "code",
   "execution_count": 16,
   "metadata": {},
   "outputs": [
    {
     "data": {
      "text/plain": [
       "torch.Size([1, 16, 28, 28])"
      ]
     },
     "execution_count": 16,
     "metadata": {},
     "output_type": "execute_result"
    }
   ],
   "source": [
    "from torch import autograd\n",
    "grads = autograd.grad(pred[:, pred.argmax().item()], conv_model.conv_layer_output)\n",
    "grads[0].shape"
   ]
  },
  {
   "cell_type": "markdown",
   "metadata": {},
   "source": [
    "#### 6.3 Average Gradients\n",
    "\n",
    "- First, we need to compute the gradients of the output tensor with respect to the `target` class. These gradients are usually obtained through backpropagation. Now we are interested in specific channel's gradients\n",
    "\n",
    "- After obtaining the gradients, we will have a tensor that represents the gradients for each channel of the output. These gradients are computed for each location in the spatial dimensions (`height` and `width`) of the output `feature map`.\n",
    "\n",
    "- The code `grads[0]` corresponds to selecting the gradients for a specific instance in the batch. In this case, it's the first instance. This step is usually done because when we perform backpropagation, we obtain gradients for each instance in the batch. But since we're interested in a specific instance, we choose `grads[0]`.\n",
    "\n",
    "- The `mean` function calculates the average of the selected gradients along the specified dimensions `(0, 2, 3)`. Let's break down what this means\n",
    "    1. `0` refers to the channel dimension. By taking the mean along this dimension, you're averaging the gradients across all the channels for the selected instance.\n",
    "    \n",
    "    2. `2` and `3` refer to the spatial dimensions (`height` and `width`). You're taking the mean across the spatial locations of each channel's gradients.\n",
    "\n",
    "-  The resulting `pooled_grads` tensor will contain the average gradients for each channel. These average gradients give you an idea of how important each channel is for the predicted class."
   ]
  },
  {
   "cell_type": "code",
   "execution_count": 17,
   "metadata": {},
   "outputs": [
    {
     "data": {
      "text/plain": [
       "tensor([ 1.3793e-03,  1.7148e-03,  1.5112e-03,  0.0000e+00,  1.3891e-03,\n",
       "         1.8316e-03,  1.7621e-04,  6.9941e-04,  1.6060e-03,  8.2878e-04,\n",
       "         1.6342e-03,  1.3992e-03,  1.1351e-03,  1.5780e-03,  1.1473e-03,\n",
       "        -2.7149e-05])"
      ]
     },
     "execution_count": 17,
     "metadata": {},
     "output_type": "execute_result"
    }
   ],
   "source": [
    "pooled_grads = grads[0].mean((0,2,3))\n",
    "pooled_grads"
   ]
  },
  {
   "cell_type": "markdown",
   "metadata": {},
   "source": [
    "#### 6.4 Multiply Convolution Layer Output with Averaged Gradients\n",
    "\n",
    "- Let's combine the Output of the Last Convolutional Layer with the averaged gradients obtained from the section 6.3\n",
    "\n",
    "- Let's iterate through each channel of the output produced by the last convolutional layer. For every individual channel, we performed a multiplication with the corresponding averaged gradient value from the step 6.3.\n",
    "\n",
    "- The outcome of this multiplication is an output array with a shape of `(16, 28, 28)`. This array provides us with a comprehensive view of how the convolutional layer's output interacts with the averaged gradients, highlighting critical regions where these interactions are most significant."
   ]
  },
  {
   "cell_type": "code",
   "execution_count": 18,
   "metadata": {},
   "outputs": [
    {
     "data": {
      "text/plain": [
       "torch.Size([16, 28, 28])"
      ]
     },
     "execution_count": 18,
     "metadata": {},
     "output_type": "execute_result"
    }
   ],
   "source": [
    "conv_output = conv_model.conv_layer_output.squeeze()\n",
    "conv_output = F.relu(conv_output)\n",
    "conv_output.shape"
   ]
  },
  {
   "cell_type": "code",
   "execution_count": 19,
   "metadata": {},
   "outputs": [
    {
     "data": {
      "text/plain": [
       "torch.Size([16, 28, 28])"
      ]
     },
     "execution_count": 19,
     "metadata": {},
     "output_type": "execute_result"
    }
   ],
   "source": [
    "for i in range(len(pooled_grads)):\n",
    "    conv_output[i,:,:] *= pooled_grads[i]\n",
    "\n",
    "conv_output.shape"
   ]
  },
  {
   "cell_type": "markdown",
   "metadata": {},
   "source": [
    "#### 6.5 Average Output At Channel Axis To Create Heatmap\n",
    "\n",
    "- This final phase encapsulates our last step, which revolves around generating a heatmap. This heatmap is constructed by averaging the outputs at the channel level from the previous multiplication step.\n",
    "\n",
    "- Specifically, we conducted an averaging operation across all 16 channels present in the output derived earlier. This endeavor yielded a heatmap characterized by a shape of (28, 28). The heatmap is strategically designed to encapsulate activations that play a role in influencing the network's predictions.\n",
    "\n",
    "- As a customary practice to achieve enhanced outcomes, we often choose to normalize the values within the heatmap. This normalization process contributes to refining the resulting heatmap, thereby contributing to more accurate and interpretable insights into the neural network's decision-making process."
   ]
  },
  {
   "cell_type": "code",
   "execution_count": 20,
   "metadata": {},
   "outputs": [
    {
     "data": {
      "text/plain": [
       "torch.Size([28, 28])"
      ]
     },
     "execution_count": 20,
     "metadata": {},
     "output_type": "execute_result"
    }
   ],
   "source": [
    "heatmap = conv_output.mean(dim=0).squeeze()\n",
    "heatmap = heatmap / torch.max(heatmap)\n",
    "heatmap.shape"
   ]
  },
  {
   "cell_type": "markdown",
   "metadata": {},
   "source": [
    "#### 6.6 Visualize Original Image And Heatmap\n",
    "\n",
    "- Let's visualize our original image and the heatmap next to each other to understand the performance of `GradCAM` algorithm.\n",
    "\n",
    "- From the results, the heatmap highlights activations that contributed to the prediction."
   ]
  },
  {
   "cell_type": "code",
   "execution_count": 21,
   "metadata": {},
   "outputs": [
    {
     "name": "stderr",
     "output_type": "stream",
     "text": [
      "/var/folders/tx/kp29vzg523qdz2m7wmtms4p40000gn/T/ipykernel_3461/1894943190.py:5: MatplotlibDeprecationWarning: The get_cmap function was deprecated in Matplotlib 3.7 and will be removed two minor releases later. Use ``matplotlib.colormaps[name]`` or ``matplotlib.colormaps.get_cmap(obj)`` instead.\n",
      "  cmap = matplotlib.cm.get_cmap(\"Reds\")\n"
     ]
    },
    {
     "data": {
      "image/png": "[encoded data removed]",
      "text/plain": [
       "<Figure size 1000x1000 with 2 Axes>"
      ]
     },
     "metadata": {},
     "output_type": "display_data"
    }
   ],
   "source": [
    "import matplotlib\n",
    "import matplotlib.pyplot as plt\n",
    "\n",
    "def plot_actual_and_heatmap(idx, heatmap):\n",
    "    cmap = matplotlib.cm.get_cmap(\"Reds\")\n",
    "\n",
    "    fig = plt.figure(figsize=(10,10))\n",
    "    ax1 = fig.add_subplot(121)\n",
    "    ax1.imshow(X_test[idx].numpy().squeeze());\n",
    "    ax1.set_title(\"Actual\");\n",
    "    ax1.set_xticks([],[]);ax1.set_yticks([],[]);\n",
    "\n",
    "    ax2 = fig.add_subplot(122)\n",
    "    ax2.imshow(heatmap, cmap=\"Reds\");\n",
    "    ax2.set_title(\"Gradients\");\n",
    "    ax2.set_xticks([],[]);ax2.set_yticks([],[]);\n",
    "\n",
    "plot_actual_and_heatmap(idx, heatmap.detach())"
   ]
  },
  {
   "cell_type": "code",
   "execution_count": null,
   "metadata": {},
   "outputs": [],
   "source": []
  }
 ],
 "metadata": {
  "kernelspec": {
   "display_name": "torch",
   "language": "python",
   "name": "python3"
  },
  "language_info": {
   "codemirror_mode": {
    "name": "ipython",
    "version": 3
   },
   "file_extension": ".py",
   "mimetype": "text/x-python",
   "name": "python",
   "nbconvert_exporter": "python",
   "pygments_lexer": "ipython3",
   "version": "3.10.12"
  },
  "orig_nbformat": 4
 },
 "nbformat": 4,
 "nbformat_minor": 2
}
